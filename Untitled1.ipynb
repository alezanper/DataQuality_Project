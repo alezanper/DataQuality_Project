{
 "cells": [
  {
   "cell_type": "code",
   "execution_count": 1,
   "metadata": {},
   "outputs": [
    {
     "name": "stdout",
     "output_type": "stream",
     "text": [
      "      name                 job sex  age  salary    project               email\n",
      "1     Toño  Software Developer   M   23   72000  Project A     Deividomain.com\n",
      "13     Ana  Software Developer   F   24   77000  Project A     Ana@@domain.com\n",
      "20  Andrew     Front Developer   M   25   80000  Project B  Andrew@domain..com\n",
      "32      JF  Software Developer   M   33   81000  Project A       JF@domain.com\n",
      "168\n"
     ]
    }
   ],
   "source": [
    "import Data_Quality as DQ\n",
    "\n",
    "dataWork = DQ.Rules('people.csv', ';')\n",
    "\n",
    "print(dataWork.checkPattern('email', '[a-z]+@[a-z]+.com', False))\n",
    "print(dataWork.counter)"
   ]
  },
  {
   "cell_type": "code",
   "execution_count": null,
   "metadata": {},
   "outputs": [],
   "source": []
  },
  {
   "cell_type": "code",
   "execution_count": null,
   "metadata": {},
   "outputs": [],
   "source": []
  },
  {
   "cell_type": "code",
   "execution_count": null,
   "metadata": {},
   "outputs": [],
   "source": []
  }
 ],
 "metadata": {
  "kernelspec": {
   "display_name": "Python 3",
   "language": "python",
   "name": "python3"
  },
  "language_info": {
   "codemirror_mode": {
    "name": "ipython",
    "version": 3
   },
   "file_extension": ".py",
   "mimetype": "text/x-python",
   "name": "python",
   "nbconvert_exporter": "python",
   "pygments_lexer": "ipython3",
   "version": "3.6.4"
  }
 },
 "nbformat": 4,
 "nbformat_minor": 2
}
