{
 "cells": [
  {
   "cell_type": "code",
   "execution_count": 8,
   "metadata": {},
   "outputs": [],
   "source": [
    "import Data_Quality as DQ\n",
    "import pandas as pd\n",
    "\n",
    "encoding = 'iso-8859-1'\n",
    "\n",
    "# Start data quality rules \n",
    "dataWork = DQ.Rules('people.csv', \n",
    "                    ';', \n",
    "                    False) # False for retrieve bad registers only"
   ]
  },
  {
   "cell_type": "code",
   "execution_count": 9,
   "metadata": {},
   "outputs": [
    {
     "data": {
      "text/html": [
       "<div>\n",
       "<style scoped>\n",
       "    .dataframe tbody tr th:only-of-type {\n",
       "        vertical-align: middle;\n",
       "    }\n",
       "\n",
       "    .dataframe tbody tr th {\n",
       "        vertical-align: top;\n",
       "    }\n",
       "\n",
       "    .dataframe thead th {\n",
       "        text-align: right;\n",
       "    }\n",
       "</style>\n",
       "<table border=\"1\" class=\"dataframe\">\n",
       "  <thead>\n",
       "    <tr style=\"text-align: right;\">\n",
       "      <th></th>\n",
       "      <th>name</th>\n",
       "      <th>job</th>\n",
       "      <th>sex</th>\n",
       "      <th>age</th>\n",
       "      <th>salary</th>\n",
       "      <th>project</th>\n",
       "      <th>email</th>\n",
       "    </tr>\n",
       "  </thead>\n",
       "  <tbody>\n",
       "    <tr>\n",
       "      <th>0</th>\n",
       "      <td>Inés</td>\n",
       "      <td>Front Developer</td>\n",
       "      <td>F</td>\n",
       "      <td>22</td>\n",
       "      <td>72000</td>\n",
       "      <td>Project B</td>\n",
       "      <td>Maritza@domain.com</td>\n",
       "    </tr>\n",
       "    <tr>\n",
       "      <th>1</th>\n",
       "      <td>Toño</td>\n",
       "      <td>Software Developer</td>\n",
       "      <td>M</td>\n",
       "      <td>23</td>\n",
       "      <td>72000</td>\n",
       "      <td>Project A</td>\n",
       "      <td>Deividomain.com</td>\n",
       "    </tr>\n",
       "    <tr>\n",
       "      <th>2</th>\n",
       "      <td>Carmiña</td>\n",
       "      <td>Software Developer</td>\n",
       "      <td>M</td>\n",
       "      <td>24</td>\n",
       "      <td>72000</td>\n",
       "      <td>Project B</td>\n",
       "      <td>Manuela@domain.com</td>\n",
       "    </tr>\n",
       "    <tr>\n",
       "      <th>3</th>\n",
       "      <td>Antony</td>\n",
       "      <td>Software Developer</td>\n",
       "      <td>M</td>\n",
       "      <td>30</td>\n",
       "      <td>72000</td>\n",
       "      <td>Project A</td>\n",
       "      <td>Antony@domain.com</td>\n",
       "    </tr>\n",
       "    <tr>\n",
       "      <th>4</th>\n",
       "      <td>Martha</td>\n",
       "      <td>Front Developer</td>\n",
       "      <td>F</td>\n",
       "      <td>23</td>\n",
       "      <td>74000</td>\n",
       "      <td>Project A</td>\n",
       "      <td>Martha@domain.com</td>\n",
       "    </tr>\n",
       "  </tbody>\n",
       "</table>\n",
       "</div>"
      ],
      "text/plain": [
       "      name                 job sex  age  salary    project               email\n",
       "0     Inés     Front Developer   F   22   72000  Project B  Maritza@domain.com\n",
       "1     Toño  Software Developer   M   23   72000  Project A     Deividomain.com\n",
       "2  Carmiña  Software Developer   M   24   72000  Project B  Manuela@domain.com\n",
       "3   Antony  Software Developer   M   30   72000  Project A   Antony@domain.com\n",
       "4   Martha     Front Developer   F   23   74000  Project A   Martha@domain.com"
      ]
     },
     "execution_count": 9,
     "metadata": {},
     "output_type": "execute_result"
    }
   ],
   "source": [
    "# File to be analyzed\n",
    "pd.read_csv('people.csv',\n",
    "            delimiter = ';',\n",
    "            encoding = encoding).head()"
   ]
  },
  {
   "cell_type": "code",
   "execution_count": 10,
   "metadata": {},
   "outputs": [
    {
     "data": {
      "text/html": [
       "<div>\n",
       "<style scoped>\n",
       "    .dataframe tbody tr th:only-of-type {\n",
       "        vertical-align: middle;\n",
       "    }\n",
       "\n",
       "    .dataframe tbody tr th {\n",
       "        vertical-align: top;\n",
       "    }\n",
       "\n",
       "    .dataframe thead th {\n",
       "        text-align: right;\n",
       "    }\n",
       "</style>\n",
       "<table border=\"1\" class=\"dataframe\">\n",
       "  <thead>\n",
       "    <tr style=\"text-align: right;\">\n",
       "      <th></th>\n",
       "      <th>job</th>\n",
       "    </tr>\n",
       "  </thead>\n",
       "  <tbody>\n",
       "    <tr>\n",
       "      <th>0</th>\n",
       "      <td>Front Developer</td>\n",
       "    </tr>\n",
       "    <tr>\n",
       "      <th>1</th>\n",
       "      <td>Software Developer</td>\n",
       "    </tr>\n",
       "    <tr>\n",
       "      <th>2</th>\n",
       "      <td>Data Engineer</td>\n",
       "    </tr>\n",
       "    <tr>\n",
       "      <th>3</th>\n",
       "      <td>Manager</td>\n",
       "    </tr>\n",
       "  </tbody>\n",
       "</table>\n",
       "</div>"
      ],
      "text/plain": [
       "                  job\n",
       "0     Front Developer\n",
       "1  Software Developer\n",
       "2       Data Engineer\n",
       "3             Manager"
      ]
     },
     "execution_count": 10,
     "metadata": {},
     "output_type": "execute_result"
    }
   ],
   "source": [
    "# Reference List\n",
    "pd.read_csv('jobs.csv')"
   ]
  },
  {
   "cell_type": "code",
   "execution_count": 11,
   "metadata": {},
   "outputs": [
    {
     "name": "stdout",
     "output_type": "stream",
     "text": [
      "     name     job\n",
      "18  David     NaN\n",
      "22    Ana  Intern\n",
      "29  Johan  Intern\n"
     ]
    }
   ],
   "source": [
    "# Checking for registers not in reference list \n",
    "print(dataWork.checkListReference('jobs.csv', 'job')[['name','job']])"
   ]
  },
  {
   "cell_type": "code",
   "execution_count": 12,
   "metadata": {},
   "outputs": [
    {
     "name": "stdout",
     "output_type": "stream",
     "text": [
      "         name               email\n",
      "1        Toño     Deividomain.com\n",
      "13        Ana     Ana@@domain.com\n",
      "20     Andrew  Andrew@domain..com\n",
      "23     Andrea                   A\n",
      "11      Lucia                 NaN\n",
      "25     Manolo                 NaN\n",
      "79   Anabelle                 NaN\n",
      "155     Peter                 NaN\n"
     ]
    }
   ],
   "source": [
    "# Checking for bad registers, returning emails with wrong structure \n",
    "print(dataWork.checkEmail('email')[['name','email']])"
   ]
  },
  {
   "cell_type": "code",
   "execution_count": 13,
   "metadata": {},
   "outputs": [
    {
     "name": "stdout",
     "output_type": "stream",
     "text": [
      "           name project\n",
      "75       Justin     NaN\n",
      "86       Stella     NaN\n",
      "157  Margarette     NaN\n"
     ]
    }
   ],
   "source": [
    "# Checking registers for null values in project column\n",
    "print(dataWork.checkNull('project')[['name','project']])"
   ]
  },
  {
   "cell_type": "code",
   "execution_count": 14,
   "metadata": {},
   "outputs": [
    {
     "name": "stdout",
     "output_type": "stream",
     "text": [
      "           name                  email\n",
      "37        Maria       Maria@domain.com\n",
      "59        Maria       Maria@domain.com\n",
      "66   Margarette  Margarette@domain.com\n",
      "74        Maria       Maria@domain.com\n",
      "85        Maria       Maria@domain.com\n",
      "105       Maria       Maria@domain.com\n",
      "106       Maria       Maria@domain.com\n",
      "107       Maria       Maria@domain.com\n",
      "109  Margarette  Margarette@domain.com\n",
      "112       Maria       Maria@domain.com\n",
      "116  Margarette  Margarette@domain.com\n",
      "117  Margarette  Margarette@domain.com\n",
      "118  Margarette  Margarette@domain.com\n",
      "125  Margarette  Margarette@domain.com\n",
      "140  Margarette  Margarette@domain.com\n",
      "157  Margarette  Margarette@domain.com\n"
     ]
    }
   ],
   "source": [
    "# checking repeated emails more than 7 times\n",
    "print(dataWork.checkUnity('email', 7)[['name','email']])"
   ]
  }
 ],
 "metadata": {
  "kernelspec": {
   "display_name": "Python 3",
   "language": "python",
   "name": "python3"
  },
  "language_info": {
   "codemirror_mode": {
    "name": "ipython",
    "version": 3
   },
   "file_extension": ".py",
   "mimetype": "text/x-python",
   "name": "python",
   "nbconvert_exporter": "python",
   "pygments_lexer": "ipython3",
   "version": "3.6.4"
  }
 },
 "nbformat": 4,
 "nbformat_minor": 2
}
