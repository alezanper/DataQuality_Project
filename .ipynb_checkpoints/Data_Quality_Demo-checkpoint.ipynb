{
 "cells": [
  {
   "cell_type": "markdown",
   "metadata": {},
   "source": [
    "# Using DataQuality Library\n",
    "This demo shows the way to use the dataQuality library."
   ]
  },
  {
   "cell_type": "code",
   "execution_count": 1,
   "metadata": {},
   "outputs": [
    {
     "data": {
      "text/html": [
       "<div>\n",
       "<style scoped>\n",
       "    .dataframe tbody tr th:only-of-type {\n",
       "        vertical-align: middle;\n",
       "    }\n",
       "\n",
       "    .dataframe tbody tr th {\n",
       "        vertical-align: top;\n",
       "    }\n",
       "\n",
       "    .dataframe thead th {\n",
       "        text-align: right;\n",
       "    }\n",
       "</style>\n",
       "<table border=\"1\" class=\"dataframe\">\n",
       "  <thead>\n",
       "    <tr style=\"text-align: right;\">\n",
       "      <th></th>\n",
       "      <th>name</th>\n",
       "      <th>job</th>\n",
       "      <th>sex</th>\n",
       "      <th>age</th>\n",
       "      <th>salary</th>\n",
       "      <th>project</th>\n",
       "      <th>email</th>\n",
       "    </tr>\n",
       "  </thead>\n",
       "  <tbody>\n",
       "    <tr>\n",
       "      <th>0</th>\n",
       "      <td>Inés</td>\n",
       "      <td>Front Developer</td>\n",
       "      <td>F</td>\n",
       "      <td>35</td>\n",
       "      <td>72000</td>\n",
       "      <td>Project B</td>\n",
       "      <td>Maritza@domain.com</td>\n",
       "    </tr>\n",
       "    <tr>\n",
       "      <th>1</th>\n",
       "      <td>Toño</td>\n",
       "      <td>Software Developer</td>\n",
       "      <td>M</td>\n",
       "      <td>33</td>\n",
       "      <td>72000</td>\n",
       "      <td>Project A</td>\n",
       "      <td>Deividomain.com</td>\n",
       "    </tr>\n",
       "    <tr>\n",
       "      <th>2</th>\n",
       "      <td>Carmiña</td>\n",
       "      <td>Software Developer</td>\n",
       "      <td>M</td>\n",
       "      <td>27</td>\n",
       "      <td>72000</td>\n",
       "      <td>Project B</td>\n",
       "      <td>Manuela@domain.com</td>\n",
       "    </tr>\n",
       "    <tr>\n",
       "      <th>3</th>\n",
       "      <td>Antony</td>\n",
       "      <td>Software Developer</td>\n",
       "      <td>M</td>\n",
       "      <td>24</td>\n",
       "      <td>72000</td>\n",
       "      <td>Project A</td>\n",
       "      <td>Antony@domain.com</td>\n",
       "    </tr>\n",
       "    <tr>\n",
       "      <th>4</th>\n",
       "      <td>Martha</td>\n",
       "      <td>Front Developer</td>\n",
       "      <td>F</td>\n",
       "      <td>30</td>\n",
       "      <td>74000</td>\n",
       "      <td>Project A</td>\n",
       "      <td>Martha@domain.com</td>\n",
       "    </tr>\n",
       "  </tbody>\n",
       "</table>\n",
       "</div>"
      ],
      "text/plain": [
       "      name                 job sex age salary    project               email\n",
       "0     Inés     Front Developer   F  35  72000  Project B  Maritza@domain.com\n",
       "1     Toño  Software Developer   M  33  72000  Project A     Deividomain.com\n",
       "2  Carmiña  Software Developer   M  27  72000  Project B  Manuela@domain.com\n",
       "3   Antony  Software Developer   M  24  72000  Project A   Antony@domain.com\n",
       "4   Martha     Front Developer   F  30  74000  Project A   Martha@domain.com"
      ]
     },
     "execution_count": 1,
     "metadata": {},
     "output_type": "execute_result"
    }
   ],
   "source": [
    "# Reading file using Pandas\n",
    "import pandas as pd\n",
    "\n",
    "encoding = 'iso-8859-1'\n",
    "\n",
    "# File to be analyzed\n",
    "people = pd.read_csv('people.csv',\n",
    "            delimiter = ';',\n",
    "            encoding = encoding)\n",
    "people.head(5)"
   ]
  },
  {
   "cell_type": "code",
   "execution_count": 2,
   "metadata": {},
   "outputs": [
    {
     "name": "stdout",
     "output_type": "stream",
     "text": [
      "<class 'pandas.core.frame.DataFrame'>\n",
      "RangeIndex: 168 entries, 0 to 167\n",
      "Data columns (total 7 columns):\n",
      "name       168 non-null object\n",
      "job        167 non-null object\n",
      "sex        168 non-null object\n",
      "age        167 non-null object\n",
      "salary     168 non-null object\n",
      "project    165 non-null object\n",
      "email      164 non-null object\n",
      "dtypes: object(7)\n",
      "memory usage: 9.3+ KB\n"
     ]
    }
   ],
   "source": [
    "# Info about people file\n",
    "people.info()"
   ]
  },
  {
   "cell_type": "markdown",
   "metadata": {},
   "source": [
    "# Importing library\n",
    "Data quality library receives three parameters:\n",
    "1. File to be analized\n",
    "2. delimiter\n",
    "3. a boolean identifier to retrieving records that do not comply with the rule (False) or records that do comply with the rule (True).\n",
    "\n",
    "For this demo we are going to check for bad records."
   ]
  },
  {
   "cell_type": "code",
   "execution_count": 18,
   "metadata": {},
   "outputs": [],
   "source": [
    "import libraries.Data_Quality as DQ\n",
    "\n",
    "# Start data quality rules \n",
    "dataWork = DQ.Rules('people.csv', \n",
    "                    ';', \n",
    "                    True) # False for retrieving bad registers only"
   ]
  },
  {
   "cell_type": "markdown",
   "metadata": {},
   "source": [
    "# Rule for checking specific words\n",
    "This rules checks for specific words on records on certain column. In this case the rule returns all records with \"Intern\" word."
   ]
  },
  {
   "cell_type": "code",
   "execution_count": 4,
   "metadata": {},
   "outputs": [
    {
     "name": "stdout",
     "output_type": "stream",
     "text": [
      "   index   name     job sex   age salary    project             email\n",
      "0      3    Ana  Intern   F  28.0  80000  Project A    Ana@domain.com\n",
      "1      0  Johan  Intern   M  27.0  80000  Project A  Johan@domain.com\n"
     ]
    }
   ],
   "source": [
    "print(dataWork.checkContains('job', 'Intern').head())\n"
   ]
  },
  {
   "cell_type": "markdown",
   "metadata": {},
   "source": [
    "# Rule for checking length\n",
    "This rules checks for length of records on certain column. In this case the rule returns all records with more than 12 characters."
   ]
  },
  {
   "cell_type": "code",
   "execution_count": 5,
   "metadata": {},
   "outputs": [
    {
     "name": "stdout",
     "output_type": "stream",
     "text": [
      "   index     name                 job sex age salary    project  \\\n",
      "0      0     Inés     Front Developer   F  35  72000  Project B   \n",
      "1      1     Toño  Software Developer   M  33  72000  Project A   \n",
      "2      2  Carmiña  Software Developer   M  27  72000  Project B   \n",
      "3      3   Antony  Software Developer   M  24  72000  Project A   \n",
      "4      4   Martha     Front Developer   F  30  74000  Project A   \n",
      "\n",
      "                email  \n",
      "0  Maritza@domain.com  \n",
      "1     Deividomain.com  \n",
      "2  Manuela@domain.com  \n",
      "3   Antony@domain.com  \n",
      "4   Martha@domain.com  \n"
     ]
    }
   ],
   "source": [
    "print(dataWork.checkMaxLength('job', 20).head())"
   ]
  },
  {
   "cell_type": "markdown",
   "metadata": {},
   "source": [
    "# Rule for list\n",
    "This rule checks data against a reference list."
   ]
  },
  {
   "cell_type": "code",
   "execution_count": 6,
   "metadata": {},
   "outputs": [
    {
     "data": {
      "text/html": [
       "<div>\n",
       "<style scoped>\n",
       "    .dataframe tbody tr th:only-of-type {\n",
       "        vertical-align: middle;\n",
       "    }\n",
       "\n",
       "    .dataframe tbody tr th {\n",
       "        vertical-align: top;\n",
       "    }\n",
       "\n",
       "    .dataframe thead th {\n",
       "        text-align: right;\n",
       "    }\n",
       "</style>\n",
       "<table border=\"1\" class=\"dataframe\">\n",
       "  <thead>\n",
       "    <tr style=\"text-align: right;\">\n",
       "      <th></th>\n",
       "      <th>job</th>\n",
       "    </tr>\n",
       "  </thead>\n",
       "  <tbody>\n",
       "    <tr>\n",
       "      <th>0</th>\n",
       "      <td>Front Developer</td>\n",
       "    </tr>\n",
       "    <tr>\n",
       "      <th>1</th>\n",
       "      <td>Software Developer</td>\n",
       "    </tr>\n",
       "    <tr>\n",
       "      <th>2</th>\n",
       "      <td>Data Engineer</td>\n",
       "    </tr>\n",
       "    <tr>\n",
       "      <th>3</th>\n",
       "      <td>Manager</td>\n",
       "    </tr>\n",
       "  </tbody>\n",
       "</table>\n",
       "</div>"
      ],
      "text/plain": [
       "                  job\n",
       "0     Front Developer\n",
       "1  Software Developer\n",
       "2       Data Engineer\n",
       "3             Manager"
      ]
     },
     "execution_count": 6,
     "metadata": {},
     "output_type": "execute_result"
    }
   ],
   "source": [
    "# Reference List for rule.\n",
    "pd.read_csv('jobs.csv')"
   ]
  },
  {
   "cell_type": "code",
   "execution_count": 7,
   "metadata": {},
   "outputs": [
    {
     "name": "stdout",
     "output_type": "stream",
     "text": [
      "           name                 job\n",
      "0          Inés     Front Developer\n",
      "1          Toño  Software Developer\n",
      "2       Carmiña  Software Developer\n",
      "3        Antony  Software Developer\n",
      "4        Martha     Front Developer\n",
      "5         Deivi  Software Developer\n",
      "6         Deivi  Software Developer\n",
      "7       Marisol     Front Developer\n",
      "8        Martha     Front Developer\n",
      "9        Antony  Software Developer\n",
      "10       Antony  Software Developer\n",
      "11        Lucia  Software Developer\n",
      "12      Melanye  Software Developer\n",
      "13          Ana  Software Developer\n",
      "14          Ana  Software Developer\n",
      "15      Ant0nio  Software Developer\n",
      "16        Johan  Software Developer\n",
      "17        Johan  Software Developer\n",
      "18        J3nny  Software Developer\n",
      "19       Andrew     Front Developer\n",
      "20       Justin       Data Engineer\n",
      "21       Andrea     Front Developer\n",
      "22     Angelica     Front Developer\n",
      "23       Manolo       Data Engineer\n",
      "24         Bart  Software Developer\n",
      "25         Bert  Software Developer\n",
      "26      Belinda  Software Developer\n",
      "27       Justin  Software Developer\n",
      "28       Justin  Software Developer\n",
      "29           JF  Software Developer\n",
      "..          ...                 ...\n",
      "135     Arnaldo       Data Engineer\n",
      "136     Esteban       Data Engineer\n",
      "137  Margarette       Data Engineer\n",
      "138      Nelson  Software Developer\n",
      "139         Bob  Software Developer\n",
      "140         Bob  Software Developer\n",
      "141         Bob  Software Developer\n",
      "142      Nestor  Software Developer\n",
      "143      Ne/son  Software Developer\n",
      "144      Justin       Data Engineer\n",
      "145       Johan  Software Developer\n",
      "146     Esteban  Software Developer\n",
      "147       Johan  Software Developer\n",
      "148      Angela     Front Developer\n",
      "149         Ned       Data Engineer\n",
      "150       Jenny       Data Engineer\n",
      "151     Joaquin       Data Engineer\n",
      "152       Peter       Data Engineer\n",
      "153      Andrea     Front Developer\n",
      "154  Margarette       Data Engineer\n",
      "155       Peter       Data Engineer\n",
      "156        John             Manager\n",
      "157       Juan0             Manager\n",
      "158        John             Manager\n",
      "159      Pedro_             Manager\n",
      "160       Peter       Data Engineer\n",
      "161       Dayan             Manager\n",
      "162       Pedro             Manager\n",
      "163        Mary             Manager\n",
      "164       Dayan             Manager\n",
      "\n",
      "[165 rows x 2 columns]\n"
     ]
    }
   ],
   "source": [
    "# Checking for registers not in reference list for column \"job\"\n",
    "# Nan and Intern not in reference list\n",
    "print(dataWork.checkListReference('jobs.csv', 'job', 'job')[['name','job']])"
   ]
  },
  {
   "cell_type": "markdown",
   "metadata": {},
   "source": [
    "# Rule for email\n",
    "This rule checks for email structure."
   ]
  },
  {
   "cell_type": "code",
   "execution_count": 8,
   "metadata": {},
   "outputs": [
    {
     "name": "stdout",
     "output_type": "stream",
     "text": [
      "      name               email\n",
      "0     Inés  Maritza@domain.com\n",
      "1  Carmiña  Manuela@domain.com\n",
      "2   Antony   Antony@domain.com\n",
      "3   Martha   Martha@domain.com\n",
      "4    Deivi    Deivi@domain.com\n"
     ]
    }
   ],
   "source": [
    "# Checking for bad registers in column \"email\", returning emails with wrong structure \n",
    "print(dataWork.checkEmail('email')[['name','email']].head())"
   ]
  },
  {
   "cell_type": "markdown",
   "metadata": {},
   "source": [
    "# Rule for null values\n",
    "This rule checks for missing values."
   ]
  },
  {
   "cell_type": "code",
   "execution_count": 9,
   "metadata": {},
   "outputs": [
    {
     "name": "stdout",
     "output_type": "stream",
     "text": [
      "           name    project\n",
      "0          Inés  Project B\n",
      "1          Toño  Project A\n",
      "2       Carmiña  Project B\n",
      "3        Antony  Project A\n",
      "4        Martha  Project A\n",
      "5         Deivi  Project B\n",
      "6         Deivi  Project A\n",
      "7       Marisol  Project A\n",
      "8        Martha  Project A\n",
      "9        Antony  Project A\n",
      "10       Antony  Project A\n",
      "11        Lucia  Project A\n",
      "12      Melanye  Project B\n",
      "13          Ana  Project A\n",
      "14          Ana  Project A\n",
      "15      Ant0nio  Project A\n",
      "16        Johan  Project A\n",
      "17        Johan  Project B\n",
      "18        David  Project A\n",
      "19        J3nny  Project A\n",
      "20       Andrew  Project B\n",
      "21       Justin  Project A\n",
      "22          Ana  Project A\n",
      "23       Andrea  Project C\n",
      "24     Angelica  Project A\n",
      "25       Manolo  Project A\n",
      "26         Bart  Project A\n",
      "27         Bert  Project A\n",
      "28      Belinda  Project A\n",
      "29        Johan  Project A\n",
      "..          ...        ...\n",
      "135     Jacinto  Project B\n",
      "136     Arnaldo  Project B\n",
      "137     Esteban  Project B\n",
      "138  Margarette  Project B\n",
      "139      Nelson  Project B\n",
      "140         Bob  Project B\n",
      "141         Bob  Project B\n",
      "142         Bob  Project B\n",
      "143      Nestor  Project B\n",
      "144      Ne/son  Project B\n",
      "145      Justin  Project B\n",
      "146       Johan  Project B\n",
      "147     Esteban  Project B\n",
      "148       Johan  Project B\n",
      "149      Angela  Project B\n",
      "150         Ned  Project B\n",
      "151       Jenny  Project B\n",
      "152     Joaquin  Project B\n",
      "153       Peter  Project B\n",
      "154      Andrea  Project B\n",
      "155       Peter  Project B\n",
      "156        John  Project B\n",
      "157       Juan0  Project B\n",
      "158        John  Project B\n",
      "159      Pedro_  Project B\n",
      "160       Peter  Project B\n",
      "161       Dayan  Project B\n",
      "162       Pedro  Project B\n",
      "163        Mary  Project B\n",
      "164       Dayan  Project B\n",
      "\n",
      "[165 rows x 2 columns]\n"
     ]
    }
   ],
   "source": [
    "# Checking registers for null values in project column\n",
    "print(dataWork.checkNull('project')[['name','project']])"
   ]
  },
  {
   "cell_type": "markdown",
   "metadata": {},
   "source": [
    "# Rule for numbers\n",
    "This rule checks for number type. Non numbers will be mark as wrong"
   ]
  },
  {
   "cell_type": "code",
   "execution_count": 10,
   "metadata": {},
   "outputs": [
    {
     "name": "stdout",
     "output_type": "stream",
     "text": [
      "           name  salary\n",
      "0          Inés   72000\n",
      "1          Toño   72000\n",
      "2       Carmiña   72000\n",
      "3        Antony   72000\n",
      "4        Martha   74000\n",
      "5         Deivi   74000\n",
      "6         Deivi   74000\n",
      "7       Marisol   74000\n",
      "8        Martha   75000\n",
      "9          Inés   72000\n",
      "10         Toño   72000\n",
      "11      Carmiña   72000\n",
      "12       Antony   72000\n",
      "13       Martha   74000\n",
      "14        Deivi   74000\n",
      "15        Deivi   74000\n",
      "16      Marisol   74000\n",
      "17       Martha   75000\n",
      "18       Antony   77000\n",
      "19       Antony   77000\n",
      "20        Lucia   77000\n",
      "21      Melanye   77000\n",
      "22          Ana   77000\n",
      "23          Ana   77000\n",
      "24      Ant0nio   77000\n",
      "25        Johan   77000\n",
      "26        Johan   77000\n",
      "27        David   79000\n",
      "28       Antony   77000\n",
      "29       Antony   77000\n",
      "..          ...     ...\n",
      "304  Margarette  110000\n",
      "305       Peter  110000\n",
      "306     Esteban   97000\n",
      "307       Johan   97000\n",
      "308      Angela   98000\n",
      "309         Ned  100000\n",
      "310       Jenny  102000\n",
      "311     Joaquin  1020o0\n",
      "312       Peter  102000\n",
      "313      Andrea  105000\n",
      "314  Margarette  110000\n",
      "315       Peter  110000\n",
      "316        John  120000\n",
      "317       Juan0  120000\n",
      "318        John  120000\n",
      "319      Pedro_  120000\n",
      "320       Peter  120000\n",
      "321       Dayan  120000\n",
      "322       Pedro  120000\n",
      "323        Mary  122000\n",
      "324       Dayan  123000\n",
      "325        John  120000\n",
      "326       Juan0  120000\n",
      "327        John  120000\n",
      "328      Pedro_  120000\n",
      "329       Peter  120000\n",
      "330       Dayan  120000\n",
      "331       Pedro  120000\n",
      "332        Mary  122000\n",
      "333       Dayan  123000\n",
      "\n",
      "[334 rows x 2 columns]\n"
     ]
    }
   ],
   "source": [
    "# Checking registers for number types\n",
    "print(dataWork.checkNumber('salary')[['name', 'salary']])\n"
   ]
  },
  {
   "cell_type": "markdown",
   "metadata": {},
   "source": [
    "# Rule for name\n",
    "This rule checks the names. Only records with allows letters and spaces pass the rule."
   ]
  },
  {
   "cell_type": "code",
   "execution_count": 11,
   "metadata": {},
   "outputs": [
    {
     "name": "stdout",
     "output_type": "stream",
     "text": [
      "           name\n",
      "0          Inés\n",
      "1          Toño\n",
      "2       Carmiña\n",
      "3        Antony\n",
      "4        Martha\n",
      "5         Deivi\n",
      "6         Deivi\n",
      "7       Marisol\n",
      "8        Martha\n",
      "9          Inés\n",
      "10         Toño\n",
      "11      Carmiña\n",
      "12       Antony\n",
      "13       Martha\n",
      "14        Deivi\n",
      "15        Deivi\n",
      "16      Marisol\n",
      "17       Martha\n",
      "18       Antony\n",
      "19       Antony\n",
      "20        Lucia\n",
      "21      Melanye\n",
      "22          Ana\n",
      "23          Ana\n",
      "24        Johan\n",
      "25        Johan\n",
      "26        David\n",
      "27       Antony\n",
      "28       Antony\n",
      "29        Lucia\n",
      "..          ...\n",
      "300       Peter\n",
      "301      Andrea\n",
      "302  Margarette\n",
      "303       Peter\n",
      "304     Esteban\n",
      "305       Johan\n",
      "306      Angela\n",
      "307         Ned\n",
      "308       Jenny\n",
      "309     Joaquin\n",
      "310       Peter\n",
      "311      Andrea\n",
      "312  Margarette\n",
      "313       Peter\n",
      "314        John\n",
      "315        John\n",
      "316       Peter\n",
      "317       Dayan\n",
      "318       Pedro\n",
      "319        Mary\n",
      "320       Dayan\n",
      "321        John\n",
      "322       Juan0\n",
      "323        John\n",
      "324      Pedro_\n",
      "325       Peter\n",
      "326       Dayan\n",
      "327       Pedro\n",
      "328        Mary\n",
      "329       Dayan\n",
      "\n",
      "[330 rows x 1 columns]\n"
     ]
    }
   ],
   "source": [
    "print(dataWork.checkName('name')[['name']])"
   ]
  },
  {
   "cell_type": "markdown",
   "metadata": {},
   "source": [
    "# Checking for Generic Pattern"
   ]
  },
  {
   "cell_type": "markdown",
   "metadata": {},
   "source": [
    "This rules checks for an specific pattern"
   ]
  },
  {
   "cell_type": "code",
   "execution_count": 12,
   "metadata": {
    "scrolled": true
   },
   "outputs": [
    {
     "name": "stdout",
     "output_type": "stream",
     "text": [
      "           name\n",
      "0        Antony\n",
      "1        Martha\n",
      "2         Deivi\n",
      "3         Deivi\n",
      "4       Marisol\n",
      "5        Martha\n",
      "6          Inés\n",
      "7          Toño\n",
      "8       Carmiña\n",
      "9        Antony\n",
      "10       Martha\n",
      "11        Deivi\n",
      "12        Deivi\n",
      "13      Marisol\n",
      "14       Martha\n",
      "15       Antony\n",
      "16       Antony\n",
      "17        Lucia\n",
      "18      Melanye\n",
      "19          Ana\n",
      "20          Ana\n",
      "21        Johan\n",
      "22        Johan\n",
      "23        David\n",
      "24       Antony\n",
      "25       Antony\n",
      "26        Lucia\n",
      "27      Melanye\n",
      "28          Ana\n",
      "29          Ana\n",
      "..          ...\n",
      "297       Peter\n",
      "298      Andrea\n",
      "299  Margarette\n",
      "300       Peter\n",
      "301     Esteban\n",
      "302       Johan\n",
      "303      Angela\n",
      "304         Ned\n",
      "305       Jenny\n",
      "306     Joaquin\n",
      "307       Peter\n",
      "308      Andrea\n",
      "309  Margarette\n",
      "310       Peter\n",
      "311        John\n",
      "312        John\n",
      "313       Peter\n",
      "314       Dayan\n",
      "315       Pedro\n",
      "316        Mary\n",
      "317       Dayan\n",
      "318        John\n",
      "319       Juan0\n",
      "320        John\n",
      "321      Pedro_\n",
      "322       Peter\n",
      "323       Dayan\n",
      "324       Pedro\n",
      "325        Mary\n",
      "326       Dayan\n",
      "\n",
      "[327 rows x 1 columns]\n"
     ]
    }
   ],
   "source": [
    "print(dataWork.checkPattern('name', '^[A-Za-z]+$')[['name']])"
   ]
  },
  {
   "cell_type": "markdown",
   "metadata": {},
   "source": [
    "# Closing \n",
    "Removes and deletes all files generated during data quality process."
   ]
  },
  {
   "cell_type": "code",
   "execution_count": 13,
   "metadata": {},
   "outputs": [],
   "source": [
    "dataWork.close()"
   ]
  },
  {
   "cell_type": "code",
   "execution_count": null,
   "metadata": {},
   "outputs": [],
   "source": []
  }
 ],
 "metadata": {
  "kernelspec": {
   "display_name": "Python 3",
   "language": "python",
   "name": "python3"
  },
  "language_info": {
   "codemirror_mode": {
    "name": "ipython",
    "version": 3
   },
   "file_extension": ".py",
   "mimetype": "text/x-python",
   "name": "python",
   "nbconvert_exporter": "python",
   "pygments_lexer": "ipython3",
   "version": "3.7.3"
  }
 },
 "nbformat": 4,
 "nbformat_minor": 2
}
