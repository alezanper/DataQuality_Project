{
 "cells": [
  {
   "cell_type": "markdown",
   "metadata": {},
   "source": [
    "# Using DataQuality Library\n",
    "This demo shows the way to use the dataQuality library."
   ]
  },
  {
   "cell_type": "code",
   "execution_count": 1,
   "metadata": {},
   "outputs": [
    {
     "data": {
      "text/html": [
       "<div>\n",
       "<style scoped>\n",
       "    .dataframe tbody tr th:only-of-type {\n",
       "        vertical-align: middle;\n",
       "    }\n",
       "\n",
       "    .dataframe tbody tr th {\n",
       "        vertical-align: top;\n",
       "    }\n",
       "\n",
       "    .dataframe thead th {\n",
       "        text-align: right;\n",
       "    }\n",
       "</style>\n",
       "<table border=\"1\" class=\"dataframe\">\n",
       "  <thead>\n",
       "    <tr style=\"text-align: right;\">\n",
       "      <th></th>\n",
       "      <th>name</th>\n",
       "      <th>job</th>\n",
       "      <th>sex</th>\n",
       "      <th>age</th>\n",
       "      <th>salary</th>\n",
       "      <th>project</th>\n",
       "      <th>email</th>\n",
       "    </tr>\n",
       "  </thead>\n",
       "  <tbody>\n",
       "    <tr>\n",
       "      <th>0</th>\n",
       "      <td>Inés</td>\n",
       "      <td>Front Developer</td>\n",
       "      <td>F</td>\n",
       "      <td>35</td>\n",
       "      <td>72000</td>\n",
       "      <td>Project B</td>\n",
       "      <td>Maritza@domain.com</td>\n",
       "    </tr>\n",
       "    <tr>\n",
       "      <th>1</th>\n",
       "      <td>Toño</td>\n",
       "      <td>Software Developer</td>\n",
       "      <td>M</td>\n",
       "      <td>33</td>\n",
       "      <td>72000</td>\n",
       "      <td>Project A</td>\n",
       "      <td>Deividomain.com</td>\n",
       "    </tr>\n",
       "    <tr>\n",
       "      <th>2</th>\n",
       "      <td>Carmiña</td>\n",
       "      <td>Software Developer</td>\n",
       "      <td>M</td>\n",
       "      <td>27</td>\n",
       "      <td>72000</td>\n",
       "      <td>Project B</td>\n",
       "      <td>Manuela@domain.com</td>\n",
       "    </tr>\n",
       "    <tr>\n",
       "      <th>3</th>\n",
       "      <td>Antony</td>\n",
       "      <td>Software Developer</td>\n",
       "      <td>M</td>\n",
       "      <td>24</td>\n",
       "      <td>72000</td>\n",
       "      <td>Project A</td>\n",
       "      <td>Antony@domain.com</td>\n",
       "    </tr>\n",
       "    <tr>\n",
       "      <th>4</th>\n",
       "      <td>Martha</td>\n",
       "      <td>Front Developer</td>\n",
       "      <td>F</td>\n",
       "      <td>30</td>\n",
       "      <td>74000</td>\n",
       "      <td>Project A</td>\n",
       "      <td>Martha@domain.com</td>\n",
       "    </tr>\n",
       "  </tbody>\n",
       "</table>\n",
       "</div>"
      ],
      "text/plain": [
       "      name                 job sex age salary    project               email\n",
       "0     Inés     Front Developer   F  35  72000  Project B  Maritza@domain.com\n",
       "1     Toño  Software Developer   M  33  72000  Project A     Deividomain.com\n",
       "2  Carmiña  Software Developer   M  27  72000  Project B  Manuela@domain.com\n",
       "3   Antony  Software Developer   M  24  72000  Project A   Antony@domain.com\n",
       "4   Martha     Front Developer   F  30  74000  Project A   Martha@domain.com"
      ]
     },
     "execution_count": 1,
     "metadata": {},
     "output_type": "execute_result"
    }
   ],
   "source": [
    "# Reading file using Pandas\n",
    "import pandas as pd\n",
    "\n",
    "encoding = 'iso-8859-1'\n",
    "\n",
    "# File to be analyzed\n",
    "people = pd.read_csv('people.csv',\n",
    "            delimiter = ';',\n",
    "            encoding = encoding)\n",
    "people.head()"
   ]
  },
  {
   "cell_type": "code",
   "execution_count": 2,
   "metadata": {},
   "outputs": [
    {
     "name": "stdout",
     "output_type": "stream",
     "text": [
      "<class 'pandas.core.frame.DataFrame'>\n",
      "RangeIndex: 168 entries, 0 to 167\n",
      "Data columns (total 7 columns):\n",
      "name       168 non-null object\n",
      "job        167 non-null object\n",
      "sex        168 non-null object\n",
      "age        167 non-null object\n",
      "salary     168 non-null object\n",
      "project    165 non-null object\n",
      "email      164 non-null object\n",
      "dtypes: object(7)\n",
      "memory usage: 9.3+ KB\n"
     ]
    }
   ],
   "source": [
    "# Info about people file\n",
    "people.info()"
   ]
  },
  {
   "cell_type": "markdown",
   "metadata": {},
   "source": [
    "# Importing library\n",
    "Data quality library receives three parameters:\n",
    "1. File to be analized\n",
    "2. delimiter\n",
    "3. a boolean identifier to retrieving records that do not comply with the rule (False) or records that do comply with the rule (True).\n",
    "\n",
    "For this demo we are going to check for bad records."
   ]
  },
  {
   "cell_type": "code",
   "execution_count": 3,
   "metadata": {},
   "outputs": [],
   "source": [
    "import Data_Quality as DQ\n",
    "\n",
    "# Start data quality rules \n",
    "dataWork = DQ.Rules('people.csv', \n",
    "                    ';', \n",
    "                    False) # False for retrieving bad registers only"
   ]
  },
  {
   "cell_type": "markdown",
   "metadata": {},
   "source": [
    "# Rule for checking specific words\n",
    "This rules checks for specific words on records on certain column. In this case the rule returns all records with not \"developer\" word."
   ]
  },
  {
   "cell_type": "code",
   "execution_count": 4,
   "metadata": {},
   "outputs": [
    {
     "name": "stdout",
     "output_type": "stream",
     "text": [
      "     index        name                 job sex      age  salary    project  \\\n",
      "0        0        Inés     Front Developer   F       35   72000  Project B   \n",
      "1        1        Toño  Software Developer   M       33   72000  Project A   \n",
      "2        2     Carmiña  Software Developer   M       27   72000  Project B   \n",
      "3        3      Antony  Software Developer   M       24   72000  Project A   \n",
      "4        4      Martha     Front Developer   F       30   74000  Project A   \n",
      "5        5       Deivi  Software Developer   M       24   74000  Project B   \n",
      "6        6       Deivi  Software Developer   M       40   74000  Project A   \n",
      "7        7     Marisol     Front Developer   F       22   74000  Project A   \n",
      "8        8      Martha     Front Developer   F       32   75000  Project A   \n",
      "9        9      Antony  Software Developer   M       21   77000  Project A   \n",
      "10      10      Antony  Software Developer   M       40   77000  Project A   \n",
      "11      11       Lucia  Software Developer   F       32   77000  Project A   \n",
      "12      12     Melanye  Software Developer   F       28   77000  Project B   \n",
      "13      13         Ana  Software Developer   F       20   77000  Project A   \n",
      "14      14         Ana  Software Developer   F       29   77000  Project A   \n",
      "15      15     Ant0nio  Software Developer   M       21   77000  Project A   \n",
      "16      16       Johan  Software Developer   M       40   77000  Project A   \n",
      "17      17       Johan  Software Developer   M       38   77000  Project B   \n",
      "18      18       David                 NaN   M       26   79000  Project A   \n",
      "19      19       J3nny  Software Developer   F       33   80000  Project A   \n",
      "20      20      Andrew     Front Developer   M       25   80000  Project B   \n",
      "21      21      Justin       Data Engineer   M       21   80000  Project A   \n",
      "22      22         Ana              Intern   F       28   80000  Project A   \n",
      "23      23      Andrea     Front Developer   F       24   80000  Project C   \n",
      "24      24    Angelica     Front Developer   F       32   80000  Project A   \n",
      "25      25      Manolo       Data Engineer   M       25   80000  Project A   \n",
      "26      26        Bart  Software Developer   M       40   80000  Project A   \n",
      "27      27        Bert  Software Developer   M       21   80000  Project A   \n",
      "28      28     Belinda  Software Developer   F       40   80000  Project A   \n",
      "29      29       Johan              Intern   M       27   80000  Project A   \n",
      "..     ...         ...                 ...  ..      ...     ...        ...   \n",
      "305    138     Arnaldo       Data Engineer   M       28   90000  Project B   \n",
      "306    139     Esteban       Data Engineer   M       32   92000  Project B   \n",
      "307    140  Margarette       Data Engineer   F       36   93000  Project B   \n",
      "308    141      Nelson  Software Developer   M       25   93000  Project B   \n",
      "309    142         Bob  Software Developer   M       39   95000  Project B   \n",
      "310    143         Bob  Software Developer   M       23   95000  Project B   \n",
      "311    144         Bob  Software Developer   M       32   95000  Project B   \n",
      "312    145      Nestor  Software Developer   M       25   95000  Project B   \n",
      "313    146      Ne/son  Software Developer   M       20   95000  Project B   \n",
      "314    147      Justin       Data Engineer   M       28   95000  Project B   \n",
      "315    148       Johan  Software Developer   M      NaN   97a00  Project B   \n",
      "316    149     Esteban  Software Developer   M       29   97000  Project B   \n",
      "317    150       Johan  Software Developer   M       38   97000  Project B   \n",
      "318    151      Angela     Front Developer   F       28   98000  Project B   \n",
      "319    152         Ned       Data Engineer   M       40  100000  Project B   \n",
      "320    153       Jenny       Data Engineer   F       20  102000  Project B   \n",
      "321    154     Joaquin       Data Engineer   M       37  1020o0  Project B   \n",
      "322    155       Peter       Data Engineer   M       27  102000  Project B   \n",
      "323    156      Andrea     Front Developer   F       39  105000  Project B   \n",
      "324    157  Margarette       Data Engineer   F       29  110000        NaN   \n",
      "325    158       Peter       Data Engineer   M       21  110000  Project B   \n",
      "326    159        John             Manager   M       26  120000  Project B   \n",
      "327    160       Juan0             Manager   M  25 años  120000  Project B   \n",
      "328    161        John             Manager   M       35  120000  Project B   \n",
      "329    162      Pedro_             Manager   M       40  120000  Project B   \n",
      "330    163       Peter       Data Engineer   M       29  120000  Project B   \n",
      "331    164       Dayan             Manager   F       26  120000  Project B   \n",
      "332    165       Pedro             Manager   M       30  120000  Project B   \n",
      "333    166        Mary             Manager   F       22  122000  Project B   \n",
      "334    167       Dayan             Manager   F       24  123000  Project B   \n",
      "\n",
      "                     email  \n",
      "0       Maritza@domain.com  \n",
      "1          Deividomain.com  \n",
      "2       Manuela@domain.com  \n",
      "3        Antony@domain.com  \n",
      "4        Martha@domain.com  \n",
      "5         Deivi@domain.com  \n",
      "6         Deivi@domain.com  \n",
      "7       Marisol@domain.com  \n",
      "8       Mmartha@domain.com  \n",
      "9        Antony@domain.com  \n",
      "10       Antony@domain.com  \n",
      "11                     NaN  \n",
      "12      Melanye@domain.com  \n",
      "13         Ana@@domain.com  \n",
      "14          Ana@domain.com  \n",
      "15      Antonio@domain.com  \n",
      "16        Johan@domain.com  \n",
      "17        Johan@domain.com  \n",
      "18        David@domain.com  \n",
      "19        Jenny@domain.com  \n",
      "20      Andrew@domain..com  \n",
      "21       Justin@domain.com  \n",
      "22          Ana@domain.com  \n",
      "23                       A  \n",
      "24     Angelica@domain.com  \n",
      "25                     NaN  \n",
      "26         Bart@domain.com  \n",
      "27         Bart@domain.com  \n",
      "28      Belinda@domain.com  \n",
      "29        Johan@domain.com  \n",
      "..                     ...  \n",
      "305     Arnaldo@domain.com  \n",
      "306     Esteban@domain.com  \n",
      "307  Margarette@domain.com  \n",
      "308      Nelson@domain.com  \n",
      "309         Bob@domain.com  \n",
      "310         Bob@domain.com  \n",
      "311         Bob@domain.com  \n",
      "312      Nestor@domain.com  \n",
      "313      Nelson@domain.com  \n",
      "314      Justin@domain.com  \n",
      "315       Johan@domain.com  \n",
      "316       Johan@domain.com  \n",
      "317       Johan@domain.com  \n",
      "318      Angela@domain.com  \n",
      "319         Ned@domain.com  \n",
      "320       Jenny@domain.com  \n",
      "321                    123  \n",
      "322                    NaN  \n",
      "323      Andrea@domain.com  \n",
      "324  Margarette@domain.com  \n",
      "325       Peter@domain.com  \n",
      "326        John@domain.com  \n",
      "327        John@domain.com  \n",
      "328        John@domain.com  \n",
      "329       Pedro@domain.com  \n",
      "330       Peter@domain.com  \n",
      "331       Dayan@domain.com  \n",
      "332       Pedro@domain.com  \n",
      "333        Mary@domain.com  \n",
      "334       Dayan@domain.com  \n",
      "\n",
      "[335 rows x 8 columns]\n"
     ]
    }
   ],
   "source": [
    "print(dataWork.checkContains('job', 'developer'))\n"
   ]
  },
  {
   "cell_type": "markdown",
   "metadata": {},
   "source": [
    "# Rule for checking length\n",
    "This rules checks for length of records on certain column. In this case the rule returns all records with more than 12 characters."
   ]
  },
  {
   "cell_type": "code",
   "execution_count": 5,
   "metadata": {},
   "outputs": [
    {
     "name": "stdout",
     "output_type": "stream",
     "text": [
      "     index        name                 job sex  age  salary    project  \\\n",
      "0        0        Inés     Front Developer   F   35   72000  Project B   \n",
      "1        1        Toño  Software Developer   M   33   72000  Project A   \n",
      "2        2     Carmiña  Software Developer   M   27   72000  Project B   \n",
      "3        3      Antony  Software Developer   M   24   72000  Project A   \n",
      "4        4      Martha     Front Developer   F   30   74000  Project A   \n",
      "5        5       Deivi  Software Developer   M   24   74000  Project B   \n",
      "6        6       Deivi  Software Developer   M   40   74000  Project A   \n",
      "7        7     Marisol     Front Developer   F   22   74000  Project A   \n",
      "8        8      Martha     Front Developer   F   32   75000  Project A   \n",
      "9        9      Antony  Software Developer   M   21   77000  Project A   \n",
      "10      10      Antony  Software Developer   M   40   77000  Project A   \n",
      "11      11       Lucia  Software Developer   F   32   77000  Project A   \n",
      "12      12     Melanye  Software Developer   F   28   77000  Project B   \n",
      "13      13         Ana  Software Developer   F   20   77000  Project A   \n",
      "14      14         Ana  Software Developer   F   29   77000  Project A   \n",
      "15      15     Ant0nio  Software Developer   M   21   77000  Project A   \n",
      "16      16       Johan  Software Developer   M   40   77000  Project A   \n",
      "17      17       Johan  Software Developer   M   38   77000  Project B   \n",
      "18      19       J3nny  Software Developer   F   33   80000  Project A   \n",
      "19      20      Andrew     Front Developer   M   25   80000  Project B   \n",
      "20      21      Justin       Data Engineer   M   21   80000  Project A   \n",
      "21      23      Andrea     Front Developer   F   24   80000  Project C   \n",
      "22      24    Angelica     Front Developer   F   32   80000  Project A   \n",
      "23      25      Manolo       Data Engineer   M   25   80000  Project A   \n",
      "24      26        Bart  Software Developer   M   40   80000  Project A   \n",
      "25      27        Bert  Software Developer   M   21   80000  Project A   \n",
      "26      28     Belinda  Software Developer   F   40   80000  Project A   \n",
      "27      30      Justin  Software Developer   M   23   80000  Project A   \n",
      "28      31      Justin  Software Developer   M   27   80000  Project A   \n",
      "29      32          JF  Software Developer   M   33   81000  Project A   \n",
      "..     ...         ...                 ...  ..  ...     ...        ...   \n",
      "127    130      Hector     Front Developer   M   22   87800  Project B   \n",
      "128    131       Homer     Front Developer   M   30   87800  Project B   \n",
      "129    132       Homer     Front Developer   M   32   87800  Project B   \n",
      "130    133    Hernando     Front Developer   M   32   87800  Project B   \n",
      "131    134   Alejandro  Software Developer   M   24   89000  Project B   \n",
      "132    135     Joaquin       Data Engineer   M   23   89000  Project B   \n",
      "133    136        Lisa       Data Engineer   F   24   90000  Project B   \n",
      "134    137     Jacinto       Data Engineer   M   26   90000  Project B   \n",
      "135    138     Arnaldo       Data Engineer   M   28   90000  Project B   \n",
      "136    139     Esteban       Data Engineer   M   32   92000  Project B   \n",
      "137    140  Margarette       Data Engineer   F   36   93000  Project B   \n",
      "138    141      Nelson  Software Developer   M   25   93000  Project B   \n",
      "139    142         Bob  Software Developer   M   39   95000  Project B   \n",
      "140    143         Bob  Software Developer   M   23   95000  Project B   \n",
      "141    144         Bob  Software Developer   M   32   95000  Project B   \n",
      "142    145      Nestor  Software Developer   M   25   95000  Project B   \n",
      "143    146      Ne/son  Software Developer   M   20   95000  Project B   \n",
      "144    147      Justin       Data Engineer   M   28   95000  Project B   \n",
      "145    148       Johan  Software Developer   M  NaN   97a00  Project B   \n",
      "146    149     Esteban  Software Developer   M   29   97000  Project B   \n",
      "147    150       Johan  Software Developer   M   38   97000  Project B   \n",
      "148    151      Angela     Front Developer   F   28   98000  Project B   \n",
      "149    152         Ned       Data Engineer   M   40  100000  Project B   \n",
      "150    153       Jenny       Data Engineer   F   20  102000  Project B   \n",
      "151    154     Joaquin       Data Engineer   M   37  1020o0  Project B   \n",
      "152    155       Peter       Data Engineer   M   27  102000  Project B   \n",
      "153    156      Andrea     Front Developer   F   39  105000  Project B   \n",
      "154    157  Margarette       Data Engineer   F   29  110000        NaN   \n",
      "155    158       Peter       Data Engineer   M   21  110000  Project B   \n",
      "156    163       Peter       Data Engineer   M   29  120000  Project B   \n",
      "\n",
      "                     email  \n",
      "0       Maritza@domain.com  \n",
      "1          Deividomain.com  \n",
      "2       Manuela@domain.com  \n",
      "3        Antony@domain.com  \n",
      "4        Martha@domain.com  \n",
      "5         Deivi@domain.com  \n",
      "6         Deivi@domain.com  \n",
      "7       Marisol@domain.com  \n",
      "8       Mmartha@domain.com  \n",
      "9        Antony@domain.com  \n",
      "10       Antony@domain.com  \n",
      "11                     NaN  \n",
      "12      Melanye@domain.com  \n",
      "13         Ana@@domain.com  \n",
      "14          Ana@domain.com  \n",
      "15      Antonio@domain.com  \n",
      "16        Johan@domain.com  \n",
      "17        Johan@domain.com  \n",
      "18        Jenny@domain.com  \n",
      "19      Andrew@domain..com  \n",
      "20       Justin@domain.com  \n",
      "21                       A  \n",
      "22     Angelica@domain.com  \n",
      "23                     NaN  \n",
      "24         Bart@domain.com  \n",
      "25         Bart@domain.com  \n",
      "26      Belinda@domain.com  \n",
      "27      Jus*tin@domain.com  \n",
      "28       Justin@domain.com  \n",
      "29           JF@domain.com  \n",
      "..                     ...  \n",
      "127      Hector@domain.com  \n",
      "128       Homer@domain.com  \n",
      "129       Homer@domain.com  \n",
      "130    Hernando@domain.com  \n",
      "131   Alejandro@domain.com  \n",
      "132     Joaquin@domain.com  \n",
      "133        Lisa@domain.com  \n",
      "134     Jacinto@domain.com  \n",
      "135     Arnaldo@domain.com  \n",
      "136     Esteban@domain.com  \n",
      "137  Margarette@domain.com  \n",
      "138      Nelson@domain.com  \n",
      "139         Bob@domain.com  \n",
      "140         Bob@domain.com  \n",
      "141         Bob@domain.com  \n",
      "142      Nestor@domain.com  \n",
      "143      Nelson@domain.com  \n",
      "144      Justin@domain.com  \n",
      "145       Johan@domain.com  \n",
      "146       Johan@domain.com  \n",
      "147       Johan@domain.com  \n",
      "148      Angela@domain.com  \n",
      "149         Ned@domain.com  \n",
      "150       Jenny@domain.com  \n",
      "151                    123  \n",
      "152                    NaN  \n",
      "153      Andrea@domain.com  \n",
      "154  Margarette@domain.com  \n",
      "155       Peter@domain.com  \n",
      "156       Peter@domain.com  \n",
      "\n",
      "[157 rows x 8 columns]\n"
     ]
    }
   ],
   "source": [
    "print(dataWork.checkMaxLength('job', 12))"
   ]
  },
  {
   "cell_type": "markdown",
   "metadata": {},
   "source": [
    "# Rule for list\n",
    "This rule checks data against a reference list."
   ]
  },
  {
   "cell_type": "code",
   "execution_count": 6,
   "metadata": {},
   "outputs": [
    {
     "data": {
      "text/html": [
       "<div>\n",
       "<style scoped>\n",
       "    .dataframe tbody tr th:only-of-type {\n",
       "        vertical-align: middle;\n",
       "    }\n",
       "\n",
       "    .dataframe tbody tr th {\n",
       "        vertical-align: top;\n",
       "    }\n",
       "\n",
       "    .dataframe thead th {\n",
       "        text-align: right;\n",
       "    }\n",
       "</style>\n",
       "<table border=\"1\" class=\"dataframe\">\n",
       "  <thead>\n",
       "    <tr style=\"text-align: right;\">\n",
       "      <th></th>\n",
       "      <th>job</th>\n",
       "    </tr>\n",
       "  </thead>\n",
       "  <tbody>\n",
       "    <tr>\n",
       "      <th>0</th>\n",
       "      <td>Front Developer</td>\n",
       "    </tr>\n",
       "    <tr>\n",
       "      <th>1</th>\n",
       "      <td>Software Developer</td>\n",
       "    </tr>\n",
       "    <tr>\n",
       "      <th>2</th>\n",
       "      <td>Data Engineer</td>\n",
       "    </tr>\n",
       "    <tr>\n",
       "      <th>3</th>\n",
       "      <td>Manager</td>\n",
       "    </tr>\n",
       "  </tbody>\n",
       "</table>\n",
       "</div>"
      ],
      "text/plain": [
       "                  job\n",
       "0     Front Developer\n",
       "1  Software Developer\n",
       "2       Data Engineer\n",
       "3             Manager"
      ]
     },
     "execution_count": 6,
     "metadata": {},
     "output_type": "execute_result"
    }
   ],
   "source": [
    "# Reference List for rule.\n",
    "pd.read_csv('jobs.csv')"
   ]
  },
  {
   "cell_type": "code",
   "execution_count": 7,
   "metadata": {},
   "outputs": [
    {
     "name": "stdout",
     "output_type": "stream",
     "text": [
      "    name     job\n",
      "0  David     NaN\n",
      "1    Ana  Intern\n",
      "2  Johan  Intern\n"
     ]
    }
   ],
   "source": [
    "# Checking for registers not in reference list for column \"job\"\n",
    "# Nan and Intern not in reference list\n",
    "print(dataWork.checkListReference('jobs.csv', 'job', 'job')[['name','job']])"
   ]
  },
  {
   "cell_type": "markdown",
   "metadata": {},
   "source": [
    "# Rule for email\n",
    "This rule checks for email structure."
   ]
  },
  {
   "cell_type": "code",
   "execution_count": 8,
   "metadata": {},
   "outputs": [
    {
     "name": "stdout",
     "output_type": "stream",
     "text": [
      "        name               email\n",
      "0       Toño     Deividomain.com\n",
      "1      Lucia                 NaN\n",
      "2        Ana     Ana@@domain.com\n",
      "3     Andrew  Andrew@domain..com\n",
      "4     Andrea                   A\n",
      "5     Manolo                 NaN\n",
      "6   Anabelle                 NaN\n",
      "7    Joaquin                 123\n",
      "8      Peter                 NaN\n",
      "9      Lucia                 NaN\n",
      "10    Manolo                 NaN\n",
      "11  Anabelle                 NaN\n",
      "12     Peter                 NaN\n"
     ]
    }
   ],
   "source": [
    "# Checking for bad registers in column \"email\", returning emails with wrong structure \n",
    "print(dataWork.checkEmail('email')[['name','email']])"
   ]
  },
  {
   "cell_type": "markdown",
   "metadata": {},
   "source": [
    "# Rule for null values\n",
    "This rule checks for missing values."
   ]
  },
  {
   "cell_type": "code",
   "execution_count": 9,
   "metadata": {},
   "outputs": [
    {
     "name": "stdout",
     "output_type": "stream",
     "text": [
      "         name project\n",
      "0      Justin     NaN\n",
      "1      Stella     NaN\n",
      "2  Margarette     NaN\n"
     ]
    }
   ],
   "source": [
    "# Checking registers for null values in project column\n",
    "print(dataWork.checkNull('project')[['name','project']])"
   ]
  },
  {
   "cell_type": "markdown",
   "metadata": {},
   "source": [
    "# Rule for numbers\n",
    "This rule checks for number type. Non numbers will be mark as wrong"
   ]
  },
  {
   "cell_type": "code",
   "execution_count": 10,
   "metadata": {},
   "outputs": [
    {
     "name": "stdout",
     "output_type": "stream",
     "text": [
      "      name  salary\n",
      "0    Johan   97a00\n",
      "1  Joaquin  1020o0\n"
     ]
    }
   ],
   "source": [
    "# Checking registers for number types\n",
    "print(dataWork.checkNumber('salary')[['name', 'salary']])\n"
   ]
  },
  {
   "cell_type": "markdown",
   "metadata": {},
   "source": [
    "# Rule for name\n",
    "This rule checks the names. Only records with allows letters and spaces pass the rule."
   ]
  },
  {
   "cell_type": "code",
   "execution_count": 11,
   "metadata": {},
   "outputs": [
    {
     "name": "stdout",
     "output_type": "stream",
     "text": [
      "      name\n",
      "0  Ant0nio\n",
      "1    J3nny\n",
      "2    Ang3l\n",
      "3   Ne/son\n",
      "4    Juan0\n",
      "5   Pedro_\n"
     ]
    }
   ],
   "source": [
    "print(dataWork.checkName('name')[['name']])"
   ]
  },
  {
   "cell_type": "markdown",
   "metadata": {},
   "source": [
    "# Closing \n",
    "Removes and deletes all files generated during data quality process."
   ]
  },
  {
   "cell_type": "code",
   "execution_count": 12,
   "metadata": {},
   "outputs": [],
   "source": [
    "dataWork.close()"
   ]
  }
 ],
 "metadata": {
  "kernelspec": {
   "display_name": "Python 3",
   "language": "python",
   "name": "python3"
  },
  "language_info": {
   "codemirror_mode": {
    "name": "ipython",
    "version": 3
   },
   "file_extension": ".py",
   "mimetype": "text/x-python",
   "name": "python",
   "nbconvert_exporter": "python",
   "pygments_lexer": "ipython3",
   "version": "3.6.4"
  }
 },
 "nbformat": 4,
 "nbformat_minor": 2
}
