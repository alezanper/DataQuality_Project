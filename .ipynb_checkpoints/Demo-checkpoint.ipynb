{
 "cells": [
  {
   "cell_type": "code",
   "execution_count": 1,
   "metadata": {},
   "outputs": [
    {
     "data": {
      "text/html": [
       "<div>\n",
       "<style scoped>\n",
       "    .dataframe tbody tr th:only-of-type {\n",
       "        vertical-align: middle;\n",
       "    }\n",
       "\n",
       "    .dataframe tbody tr th {\n",
       "        vertical-align: top;\n",
       "    }\n",
       "\n",
       "    .dataframe thead th {\n",
       "        text-align: right;\n",
       "    }\n",
       "</style>\n",
       "<table border=\"1\" class=\"dataframe\">\n",
       "  <thead>\n",
       "    <tr style=\"text-align: right;\">\n",
       "      <th></th>\n",
       "      <th>name</th>\n",
       "      <th>job</th>\n",
       "      <th>sex</th>\n",
       "      <th>age</th>\n",
       "      <th>salary</th>\n",
       "      <th>project</th>\n",
       "      <th>email</th>\n",
       "    </tr>\n",
       "  </thead>\n",
       "  <tbody>\n",
       "    <tr>\n",
       "      <th>0</th>\n",
       "      <td>Inés</td>\n",
       "      <td>Front Developer</td>\n",
       "      <td>F</td>\n",
       "      <td>22</td>\n",
       "      <td>72000</td>\n",
       "      <td>Project B</td>\n",
       "      <td>Maritza@domain.com</td>\n",
       "    </tr>\n",
       "    <tr>\n",
       "      <th>1</th>\n",
       "      <td>Toño</td>\n",
       "      <td>Software Developer</td>\n",
       "      <td>M</td>\n",
       "      <td>23</td>\n",
       "      <td>72000</td>\n",
       "      <td>Project A</td>\n",
       "      <td>Deividomain.com</td>\n",
       "    </tr>\n",
       "    <tr>\n",
       "      <th>2</th>\n",
       "      <td>Carmiña</td>\n",
       "      <td>Software Developer</td>\n",
       "      <td>M</td>\n",
       "      <td>24</td>\n",
       "      <td>72000</td>\n",
       "      <td>Project B</td>\n",
       "      <td>Manuela@domain.com</td>\n",
       "    </tr>\n",
       "    <tr>\n",
       "      <th>3</th>\n",
       "      <td>Antony</td>\n",
       "      <td>Software Developer</td>\n",
       "      <td>M</td>\n",
       "      <td>30</td>\n",
       "      <td>72000</td>\n",
       "      <td>Project A</td>\n",
       "      <td>Antony@domain.com</td>\n",
       "    </tr>\n",
       "    <tr>\n",
       "      <th>4</th>\n",
       "      <td>Martha</td>\n",
       "      <td>Front Developer</td>\n",
       "      <td>F</td>\n",
       "      <td>23</td>\n",
       "      <td>74000</td>\n",
       "      <td>Project A</td>\n",
       "      <td>Martha@domain.com</td>\n",
       "    </tr>\n",
       "  </tbody>\n",
       "</table>\n",
       "</div>"
      ],
      "text/plain": [
       "      name                 job sex  age  salary    project               email\n",
       "0     Inés     Front Developer   F   22   72000  Project B  Maritza@domain.com\n",
       "1     Toño  Software Developer   M   23   72000  Project A     Deividomain.com\n",
       "2  Carmiña  Software Developer   M   24   72000  Project B  Manuela@domain.com\n",
       "3   Antony  Software Developer   M   30   72000  Project A   Antony@domain.com\n",
       "4   Martha     Front Developer   F   23   74000  Project A   Martha@domain.com"
      ]
     },
     "execution_count": 1,
     "metadata": {},
     "output_type": "execute_result"
    }
   ],
   "source": [
    "import pandas as pd\n",
    "\n",
    "encoding = 'iso-8859-1'\n",
    "\n",
    "# File to be analyzed\n",
    "pd.read_csv('people.csv',\n",
    "            delimiter = ';',\n",
    "            encoding = encoding).head()"
   ]
  },
  {
   "cell_type": "code",
   "execution_count": 3,
   "metadata": {},
   "outputs": [],
   "source": [
    "import Data_Quality as DQ\n",
    "# Start data quality rules \n",
    "dataWork = DQ.Rules('people.csv', \n",
    "                    ';', \n",
    "                    False) # False for retrieve bad registers only"
   ]
  },
  {
   "cell_type": "code",
   "execution_count": 4,
   "metadata": {},
   "outputs": [
    {
     "data": {
      "text/html": [
       "<div>\n",
       "<style scoped>\n",
       "    .dataframe tbody tr th:only-of-type {\n",
       "        vertical-align: middle;\n",
       "    }\n",
       "\n",
       "    .dataframe tbody tr th {\n",
       "        vertical-align: top;\n",
       "    }\n",
       "\n",
       "    .dataframe thead th {\n",
       "        text-align: right;\n",
       "    }\n",
       "</style>\n",
       "<table border=\"1\" class=\"dataframe\">\n",
       "  <thead>\n",
       "    <tr style=\"text-align: right;\">\n",
       "      <th></th>\n",
       "      <th>job</th>\n",
       "    </tr>\n",
       "  </thead>\n",
       "  <tbody>\n",
       "    <tr>\n",
       "      <th>0</th>\n",
       "      <td>Front Developer</td>\n",
       "    </tr>\n",
       "    <tr>\n",
       "      <th>1</th>\n",
       "      <td>Software Developer</td>\n",
       "    </tr>\n",
       "    <tr>\n",
       "      <th>2</th>\n",
       "      <td>Data Engineer</td>\n",
       "    </tr>\n",
       "    <tr>\n",
       "      <th>3</th>\n",
       "      <td>Manager</td>\n",
       "    </tr>\n",
       "  </tbody>\n",
       "</table>\n",
       "</div>"
      ],
      "text/plain": [
       "                  job\n",
       "0     Front Developer\n",
       "1  Software Developer\n",
       "2       Data Engineer\n",
       "3             Manager"
      ]
     },
     "execution_count": 4,
     "metadata": {},
     "output_type": "execute_result"
    }
   ],
   "source": [
    "# Reference List for rule \"checkListReference\"\n",
    "pd.read_csv('jobs.csv')"
   ]
  },
  {
   "cell_type": "code",
   "execution_count": 6,
   "metadata": {},
   "outputs": [
    {
     "name": "stdout",
     "output_type": "stream",
     "text": [
      "     name     job\n",
      "18  David     NaN\n",
      "22    Ana  Intern\n",
      "29  Johan  Intern\n"
     ]
    }
   ],
   "source": [
    "# Checking for registers not in reference list for column \"job\"\n",
    "print(dataWork.checkListReference('jobs.csv', 'job', 'job')[['name','job']])"
   ]
  },
  {
   "cell_type": "code",
   "execution_count": 7,
   "metadata": {},
   "outputs": [
    {
     "name": "stdout",
     "output_type": "stream",
     "text": [
      "        name               email\n",
      "18     David    David@domain.com\n",
      "22       Ana      Ana@domain.com\n",
      "29     Johan    Johan@domain.com\n",
      "1       Toño     Deividomain.com\n",
      "13       Ana     Ana@@domain.com\n",
      "20    Andrew  Andrew@domain..com\n",
      "23    Andrea                   A\n",
      "11     Lucia                 NaN\n",
      "25    Manolo                 NaN\n",
      "10  Anabelle                 NaN\n",
      "16     Peter                 NaN\n"
     ]
    }
   ],
   "source": [
    "# Checking for bad registers in column \"email\", returning emails with wrong structure \n",
    "print(dataWork.checkEmail('email')[['name','email']])"
   ]
  },
  {
   "cell_type": "code",
   "execution_count": 8,
   "metadata": {},
   "outputs": [
    {
     "name": "stdout",
     "output_type": "stream",
     "text": [
      "['part_0_people.csv', 'part_1_people.csv', 'part_2_people.csv']\n",
      "3\n",
      "          name    project\n",
      "18       David  Project A\n",
      "22         Ana  Project A\n",
      "29       Johan  Project A\n",
      "1         Toño  Project A\n",
      "13         Ana  Project A\n",
      "20      Andrew  Project B\n",
      "23      Andrea  Project C\n",
      "11       Lucia  Project A\n",
      "25      Manolo  Project A\n",
      "10    Anabelle  Project A\n",
      "16       Peter  Project B\n",
      "6       Justin        NaN\n",
      "17      Stella        NaN\n",
      "18  Margarette        NaN\n"
     ]
    }
   ],
   "source": [
    "# Checking registers for null values in project column\n",
    "print(dataWork.checkNull('project')[['name','project']])"
   ]
  },
  {
   "cell_type": "code",
   "execution_count": 10,
   "metadata": {},
   "outputs": [
    {
     "name": "stdout",
     "output_type": "stream",
     "text": [
      "['part_0_people.csv', 'part_1_people.csv', 'part_2_people.csv']\n",
      "3\n",
      "          name    project\n",
      "18       David  Project A\n",
      "22         Ana  Project A\n",
      "29       Johan  Project A\n",
      "1         Toño  Project A\n",
      "13         Ana  Project A\n",
      "20      Andrew  Project B\n",
      "23      Andrea  Project C\n",
      "11       Lucia  Project A\n",
      "25      Manolo  Project A\n",
      "10    Anabelle  Project A\n",
      "16       Peter  Project B\n",
      "6       Justin        NaN\n",
      "17      Stella        NaN\n",
      "18  Margarette        NaN\n",
      "6       Justin        NaN\n",
      "17      Stella        NaN\n",
      "18  Margarette        NaN\n"
     ]
    }
   ],
   "source": [
    "print(dataWork.checkNull('project')[['name','project']])"
   ]
  }
 ],
 "metadata": {
  "kernelspec": {
   "display_name": "Python 3",
   "language": "python",
   "name": "python3"
  },
  "language_info": {
   "codemirror_mode": {
    "name": "ipython",
    "version": 3
   },
   "file_extension": ".py",
   "mimetype": "text/x-python",
   "name": "python",
   "nbconvert_exporter": "python",
   "pygments_lexer": "ipython3",
   "version": "3.6.4"
  }
 },
 "nbformat": 4,
 "nbformat_minor": 2
}
