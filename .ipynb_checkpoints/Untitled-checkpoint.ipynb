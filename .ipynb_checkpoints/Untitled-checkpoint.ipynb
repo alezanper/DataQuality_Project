{
 "cells": [
  {
   "cell_type": "code",
   "execution_count": 35,
   "metadata": {},
   "outputs": [
    {
     "data": {
      "text/plain": [
       "168"
      ]
     },
     "execution_count": 35,
     "metadata": {},
     "output_type": "execute_result"
    }
   ],
   "source": [
    "import pandas as pd \n",
    "\n",
    "delimiter = ';'\n",
    "encoding = 'iso-8859-1'\n",
    "\n",
    "data = pd.read_csv('people.csv',\n",
    "                   delimiter = delimiter,\n",
    "                   encoding = encoding)\n",
    "\n",
    "data.head()\n",
    "\n",
    "data.shape[0]"
   ]
  },
  {
   "cell_type": "code",
   "execution_count": null,
   "metadata": {},
   "outputs": [],
   "source": []
  },
  {
   "cell_type": "code",
   "execution_count": 36,
   "metadata": {},
   "outputs": [
    {
     "data": {
      "text/html": [
       "<div>\n",
       "<style scoped>\n",
       "    .dataframe tbody tr th:only-of-type {\n",
       "        vertical-align: middle;\n",
       "    }\n",
       "\n",
       "    .dataframe tbody tr th {\n",
       "        vertical-align: top;\n",
       "    }\n",
       "\n",
       "    .dataframe thead th {\n",
       "        text-align: right;\n",
       "    }\n",
       "</style>\n",
       "<table border=\"1\" class=\"dataframe\">\n",
       "  <thead>\n",
       "    <tr style=\"text-align: right;\">\n",
       "      <th></th>\n",
       "      <th>name</th>\n",
       "      <th>job</th>\n",
       "      <th>sex</th>\n",
       "      <th>age</th>\n",
       "      <th>salary</th>\n",
       "      <th>project</th>\n",
       "      <th>email</th>\n",
       "    </tr>\n",
       "  </thead>\n",
       "  <tbody>\n",
       "    <tr>\n",
       "      <th>1</th>\n",
       "      <td>Toño</td>\n",
       "      <td>Software Developer</td>\n",
       "      <td>M</td>\n",
       "      <td>23</td>\n",
       "      <td>72000</td>\n",
       "      <td>Project A</td>\n",
       "      <td>Deividomain.com</td>\n",
       "    </tr>\n",
       "    <tr>\n",
       "      <th>13</th>\n",
       "      <td>Ana</td>\n",
       "      <td>Software Developer</td>\n",
       "      <td>F</td>\n",
       "      <td>24</td>\n",
       "      <td>77000</td>\n",
       "      <td>Project A</td>\n",
       "      <td>Ana@@domain.com</td>\n",
       "    </tr>\n",
       "    <tr>\n",
       "      <th>20</th>\n",
       "      <td>Andrew</td>\n",
       "      <td>Front Developer</td>\n",
       "      <td>M</td>\n",
       "      <td>25</td>\n",
       "      <td>80000</td>\n",
       "      <td>Project B</td>\n",
       "      <td>Andrew@domain..com</td>\n",
       "    </tr>\n",
       "    <tr>\n",
       "      <th>32</th>\n",
       "      <td>JF</td>\n",
       "      <td>Software Developer</td>\n",
       "      <td>M</td>\n",
       "      <td>33</td>\n",
       "      <td>81000</td>\n",
       "      <td>Project A</td>\n",
       "      <td>JF@domain.com</td>\n",
       "    </tr>\n",
       "  </tbody>\n",
       "</table>\n",
       "</div>"
      ],
      "text/plain": [
       "      name                 job sex  age  salary    project               email\n",
       "1     Toño  Software Developer   M   23   72000  Project A     Deividomain.com\n",
       "13     Ana  Software Developer   F   24   77000  Project A     Ana@@domain.com\n",
       "20  Andrew     Front Developer   M   25   80000  Project B  Andrew@domain..com\n",
       "32      JF  Software Developer   M   33   81000  Project A       JF@domain.com"
      ]
     },
     "execution_count": 36,
     "metadata": {},
     "output_type": "execute_result"
    }
   ],
   "source": [
    "pattern = '[a-z]+@[a-z]+.com'\n",
    "\n",
    "data[data['email'].str.contains(pattern) == False]"
   ]
  },
  {
   "cell_type": "code",
   "execution_count": 46,
   "metadata": {},
   "outputs": [
    {
     "ename": "TypeError",
     "evalue": "checkPattern() takes 3 positional arguments but 5 were given",
     "output_type": "error",
     "traceback": [
      "\u001b[1;31m---------------------------------------------------------------------------\u001b[0m",
      "\u001b[1;31mTypeError\u001b[0m                                 Traceback (most recent call last)",
      "\u001b[1;32m<ipython-input-46-dc7a1da69601>\u001b[0m in \u001b[0;36m<module>\u001b[1;34m()\u001b[0m\n\u001b[0;32m      3\u001b[0m \u001b[0mdataWork\u001b[0m \u001b[1;33m=\u001b[0m \u001b[0mDQ\u001b[0m\u001b[1;33m.\u001b[0m\u001b[0mRules\u001b[0m\u001b[1;33m(\u001b[0m\u001b[1;34m'people.csv'\u001b[0m\u001b[1;33m,\u001b[0m \u001b[1;34m';'\u001b[0m\u001b[1;33m)\u001b[0m\u001b[1;33m\u001b[0m\u001b[0m\n\u001b[0;32m      4\u001b[0m \u001b[1;33m\u001b[0m\u001b[0m\n\u001b[1;32m----> 5\u001b[1;33m \u001b[0mdataWork\u001b[0m\u001b[1;33m.\u001b[0m\u001b[0mcheckPattern\u001b[0m\u001b[1;33m(\u001b[0m\u001b[1;34m''\u001b[0m\u001b[1;33m,\u001b[0m \u001b[1;34m'email'\u001b[0m\u001b[1;33m,\u001b[0m \u001b[1;34m'[a-z]+@[a-z]+.com'\u001b[0m\u001b[1;33m,\u001b[0m \u001b[1;32mFalse\u001b[0m\u001b[1;33m)\u001b[0m\u001b[1;33m\u001b[0m\u001b[0m\n\u001b[0m\u001b[0;32m      6\u001b[0m \u001b[1;33m\u001b[0m\u001b[0m\n",
      "\u001b[1;31mTypeError\u001b[0m: checkPattern() takes 3 positional arguments but 5 were given"
     ]
    }
   ],
   "source": [
    "import Data_Quality as DQ\n",
    "\n",
    "dataWork = DQ.Rules('people.csv', ';')\n",
    "\n",
    "dataWork.checkPattern('email', '[a-z]+@[a-z]+.com', False)\n",
    "\n"
   ]
  },
  {
   "cell_type": "code",
   "execution_count": null,
   "metadata": {},
   "outputs": [],
   "source": []
  },
  {
   "cell_type": "code",
   "execution_count": null,
   "metadata": {},
   "outputs": [],
   "source": []
  },
  {
   "cell_type": "code",
   "execution_count": null,
   "metadata": {},
   "outputs": [],
   "source": []
  },
  {
   "cell_type": "code",
   "execution_count": null,
   "metadata": {},
   "outputs": [],
   "source": []
  },
  {
   "cell_type": "code",
   "execution_count": null,
   "metadata": {},
   "outputs": [],
   "source": []
  },
  {
   "cell_type": "code",
   "execution_count": null,
   "metadata": {},
   "outputs": [],
   "source": []
  },
  {
   "cell_type": "code",
   "execution_count": null,
   "metadata": {},
   "outputs": [],
   "source": []
  }
 ],
 "metadata": {
  "kernelspec": {
   "display_name": "Python 3",
   "language": "python",
   "name": "python3"
  },
  "language_info": {
   "codemirror_mode": {
    "name": "ipython",
    "version": 3
   },
   "file_extension": ".py",
   "mimetype": "text/x-python",
   "name": "python",
   "nbconvert_exporter": "python",
   "pygments_lexer": "ipython3",
   "version": "3.6.4"
  }
 },
 "nbformat": 4,
 "nbformat_minor": 2
}
